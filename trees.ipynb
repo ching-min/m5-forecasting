{
 "cells": [
  {
   "cell_type": "markdown",
   "metadata": {},
   "source": [
    "get the feature dataset first by preprocess.py\n",
    "\n",
    "and replace the filename before load the dataset"
   ]
  },
  {
   "cell_type": "code",
   "execution_count": 1,
   "metadata": {},
   "outputs": [
    {
     "name": "stderr",
     "output_type": "stream",
     "text": [
      "C:\\Users\\minhu\\Anaconda3\\lib\\site-packages\\sklearn\\ensemble\\weight_boosting.py:29: DeprecationWarning: numpy.core.umath_tests is an internal NumPy module and should not be imported. It will be removed in a future NumPy release.\n",
      "  from numpy.core.umath_tests import inner1d\n"
     ]
    }
   ],
   "source": [
    "import warnings\n",
    "warnings.filterwarnings('ignore')\n",
    "import pandas as pd\n",
    "import numpy as np\n",
    "from sklearn.tree import DecisionTreeRegressor\n",
    "from sklearn.ensemble import RandomForestRegressor\n",
    "from sklearn.preprocessing import MinMaxScaler\n",
    "from sklearn.model_selection import GridSearchCV\n",
    "from sklearn.externals import joblib\n",
    "from sklearn import tree\n",
    "from itertools import product\n",
    "from sklearn.metrics import mean_squared_error\n",
    "import graphviz \n",
    "import pickle"
   ]
  },
  {
   "cell_type": "code",
   "execution_count": 34,
   "metadata": {},
   "outputs": [],
   "source": [
    "def get_multiple_days(model,scalers,features,labels,test_feature,seq):\n",
    "    \"\"\"\n",
    "    scalers: (list of MinMaxScaler or sklearn.preprocessing.MinMaxScaler)\n",
    "    features, labels: (list) already normed\n",
    "    test_feture: (nparray)\n",
    "    seq: (int) sequence size\n",
    "    \"\"\"\n",
    "    pred=[]\n",
    "    for i in range(28):\n",
    "        # make a prediction for the next day\n",
    "        pred.append(model.predict(test_feature))\n",
    "        # add the prediction in features\n",
    "        temp=scalers[0].inverse_transform(features[-1])\n",
    "        temp[0:-1]=temp[1:]\n",
    "        temp[-1]=0\n",
    "        temp=scalers[0].transform(temp)\n",
    "        temp[-1]=pred[-1]\n",
    "        features.append(temp)\n",
    "        #print(pred[-1],features[-1])\n",
    "        labels.append(pred[-1])\n",
    "    return scalers[1].inverse_transform(pred).reshape(1,-1)[0]"
   ]
  },
  {
   "cell_type": "markdown",
   "metadata": {},
   "source": [
    "# Hyperparameter"
   ]
  },
  {
   "cell_type": "code",
   "execution_count": 12,
   "metadata": {},
   "outputs": [],
   "source": [
    "depth=list(range(1,11,2))\n",
    "depth.append(None)                                           \n",
    "decision_params=[x for x in product(depth,list(range(2,15,2)),['best', 'random'])]"
   ]
  },
  {
   "cell_type": "code",
   "execution_count": 13,
   "metadata": {
    "scrolled": true
   },
   "outputs": [
    {
     "data": {
      "text/plain": [
       "[(1, 2, 'best'),\n",
       " (1, 2, 'random'),\n",
       " (1, 4, 'best'),\n",
       " (1, 4, 'random'),\n",
       " (1, 6, 'best'),\n",
       " (1, 6, 'random'),\n",
       " (1, 8, 'best'),\n",
       " (1, 8, 'random'),\n",
       " (1, 10, 'best'),\n",
       " (1, 10, 'random'),\n",
       " (1, 12, 'best'),\n",
       " (1, 12, 'random'),\n",
       " (1, 14, 'best'),\n",
       " (1, 14, 'random'),\n",
       " (3, 2, 'best'),\n",
       " (3, 2, 'random'),\n",
       " (3, 4, 'best'),\n",
       " (3, 4, 'random'),\n",
       " (3, 6, 'best'),\n",
       " (3, 6, 'random'),\n",
       " (3, 8, 'best'),\n",
       " (3, 8, 'random'),\n",
       " (3, 10, 'best'),\n",
       " (3, 10, 'random'),\n",
       " (3, 12, 'best'),\n",
       " (3, 12, 'random'),\n",
       " (3, 14, 'best'),\n",
       " (3, 14, 'random'),\n",
       " (5, 2, 'best'),\n",
       " (5, 2, 'random'),\n",
       " (5, 4, 'best'),\n",
       " (5, 4, 'random'),\n",
       " (5, 6, 'best'),\n",
       " (5, 6, 'random'),\n",
       " (5, 8, 'best'),\n",
       " (5, 8, 'random'),\n",
       " (5, 10, 'best'),\n",
       " (5, 10, 'random'),\n",
       " (5, 12, 'best'),\n",
       " (5, 12, 'random'),\n",
       " (5, 14, 'best'),\n",
       " (5, 14, 'random'),\n",
       " (7, 2, 'best'),\n",
       " (7, 2, 'random'),\n",
       " (7, 4, 'best'),\n",
       " (7, 4, 'random'),\n",
       " (7, 6, 'best'),\n",
       " (7, 6, 'random'),\n",
       " (7, 8, 'best'),\n",
       " (7, 8, 'random'),\n",
       " (7, 10, 'best'),\n",
       " (7, 10, 'random'),\n",
       " (7, 12, 'best'),\n",
       " (7, 12, 'random'),\n",
       " (7, 14, 'best'),\n",
       " (7, 14, 'random'),\n",
       " (9, 2, 'best'),\n",
       " (9, 2, 'random'),\n",
       " (9, 4, 'best'),\n",
       " (9, 4, 'random'),\n",
       " (9, 6, 'best'),\n",
       " (9, 6, 'random'),\n",
       " (9, 8, 'best'),\n",
       " (9, 8, 'random'),\n",
       " (9, 10, 'best'),\n",
       " (9, 10, 'random'),\n",
       " (9, 12, 'best'),\n",
       " (9, 12, 'random'),\n",
       " (9, 14, 'best'),\n",
       " (9, 14, 'random'),\n",
       " (None, 2, 'best'),\n",
       " (None, 2, 'random'),\n",
       " (None, 4, 'best'),\n",
       " (None, 4, 'random'),\n",
       " (None, 6, 'best'),\n",
       " (None, 6, 'random'),\n",
       " (None, 8, 'best'),\n",
       " (None, 8, 'random'),\n",
       " (None, 10, 'best'),\n",
       " (None, 10, 'random'),\n",
       " (None, 12, 'best'),\n",
       " (None, 12, 'random'),\n",
       " (None, 14, 'best'),\n",
       " (None, 14, 'random')]"
      ]
     },
     "execution_count": 13,
     "metadata": {},
     "output_type": "execute_result"
    }
   ],
   "source": [
    "decision_params"
   ]
  },
  {
   "cell_type": "code",
   "execution_count": 8,
   "metadata": {
    "scrolled": true
   },
   "outputs": [
    {
     "data": {
      "text/plain": [
       "[(2, 1, 2),\n",
       " (2, 1, 4),\n",
       " (2, 1, 6),\n",
       " (2, 1, 8),\n",
       " (2, 3, 2),\n",
       " (2, 3, 4),\n",
       " (2, 3, 6),\n",
       " (2, 3, 8),\n",
       " (2, 5, 2),\n",
       " (2, 5, 4),\n",
       " (2, 5, 6),\n",
       " (2, 5, 8),\n",
       " (2, 7, 2),\n",
       " (2, 7, 4),\n",
       " (2, 7, 6),\n",
       " (2, 7, 8),\n",
       " (2, 9, 2),\n",
       " (2, 9, 4),\n",
       " (2, 9, 6),\n",
       " (2, 9, 8),\n",
       " (2, None, 2),\n",
       " (2, None, 4),\n",
       " (2, None, 6),\n",
       " (2, None, 8),\n",
       " (4, 1, 2),\n",
       " (4, 1, 4),\n",
       " (4, 1, 6),\n",
       " (4, 1, 8),\n",
       " (4, 3, 2),\n",
       " (4, 3, 4),\n",
       " (4, 3, 6),\n",
       " (4, 3, 8),\n",
       " (4, 5, 2),\n",
       " (4, 5, 4),\n",
       " (4, 5, 6),\n",
       " (4, 5, 8),\n",
       " (4, 7, 2),\n",
       " (4, 7, 4),\n",
       " (4, 7, 6),\n",
       " (4, 7, 8),\n",
       " (4, 9, 2),\n",
       " (4, 9, 4),\n",
       " (4, 9, 6),\n",
       " (4, 9, 8),\n",
       " (4, None, 2),\n",
       " (4, None, 4),\n",
       " (4, None, 6),\n",
       " (4, None, 8),\n",
       " (6, 1, 2),\n",
       " (6, 1, 4),\n",
       " (6, 1, 6),\n",
       " (6, 1, 8),\n",
       " (6, 3, 2),\n",
       " (6, 3, 4),\n",
       " (6, 3, 6),\n",
       " (6, 3, 8),\n",
       " (6, 5, 2),\n",
       " (6, 5, 4),\n",
       " (6, 5, 6),\n",
       " (6, 5, 8),\n",
       " (6, 7, 2),\n",
       " (6, 7, 4),\n",
       " (6, 7, 6),\n",
       " (6, 7, 8),\n",
       " (6, 9, 2),\n",
       " (6, 9, 4),\n",
       " (6, 9, 6),\n",
       " (6, 9, 8),\n",
       " (6, None, 2),\n",
       " (6, None, 4),\n",
       " (6, None, 6),\n",
       " (6, None, 8)]"
      ]
     },
     "execution_count": 8,
     "metadata": {},
     "output_type": "execute_result"
    }
   ],
   "source": [
    "random_params=[x for x in product(list(range(2,8,2)),depth,list(range(2,10,2)))]\n",
    "random_params"
   ]
  },
  {
   "cell_type": "markdown",
   "metadata": {},
   "source": [
    "# train"
   ]
  },
  {
   "cell_type": "markdown",
   "metadata": {},
   "source": [
    "## time features "
   ]
  },
  {
   "cell_type": "markdown",
   "metadata": {},
   "source": [
    "### time feature - load data"
   ]
  },
  {
   "cell_type": "code",
   "execution_count": 63,
   "metadata": {},
   "outputs": [
    {
     "data": {
      "text/html": [
       "<div>\n",
       "<style scoped>\n",
       "    .dataframe tbody tr th:only-of-type {\n",
       "        vertical-align: middle;\n",
       "    }\n",
       "\n",
       "    .dataframe tbody tr th {\n",
       "        vertical-align: top;\n",
       "    }\n",
       "\n",
       "    .dataframe thead th {\n",
       "        text-align: right;\n",
       "    }\n",
       "</style>\n",
       "<table border=\"1\" class=\"dataframe\">\n",
       "  <thead>\n",
       "    <tr style=\"text-align: right;\">\n",
       "      <th></th>\n",
       "      <th>0</th>\n",
       "      <th>1</th>\n",
       "      <th>2</th>\n",
       "      <th>3</th>\n",
       "      <th>4</th>\n",
       "      <th>5</th>\n",
       "      <th>6</th>\n",
       "      <th>7</th>\n",
       "      <th>8</th>\n",
       "      <th>9</th>\n",
       "      <th>...</th>\n",
       "      <th>30492</th>\n",
       "      <th>30493</th>\n",
       "      <th>30494</th>\n",
       "      <th>30495</th>\n",
       "      <th>30496</th>\n",
       "      <th>30497</th>\n",
       "      <th>30498</th>\n",
       "      <th>30499</th>\n",
       "      <th>30500</th>\n",
       "      <th>30501</th>\n",
       "    </tr>\n",
       "  </thead>\n",
       "  <tbody>\n",
       "    <tr>\n",
       "      <th>0</th>\n",
       "      <td>2011</td>\n",
       "      <td>1</td>\n",
       "      <td>29.0</td>\n",
       "      <td>1.0</td>\n",
       "      <td>1</td>\n",
       "      <td>1.0</td>\n",
       "      <td>1.0</td>\n",
       "      <td>1.0</td>\n",
       "      <td>1.0</td>\n",
       "      <td>0</td>\n",
       "      <td>...</td>\n",
       "      <td>0</td>\n",
       "      <td>14</td>\n",
       "      <td>1</td>\n",
       "      <td>0</td>\n",
       "      <td>4</td>\n",
       "      <td>0</td>\n",
       "      <td>0</td>\n",
       "      <td>0</td>\n",
       "      <td>0</td>\n",
       "      <td>0</td>\n",
       "    </tr>\n",
       "    <tr>\n",
       "      <th>1</th>\n",
       "      <td>2011</td>\n",
       "      <td>1</td>\n",
       "      <td>30.0</td>\n",
       "      <td>2.0</td>\n",
       "      <td>2</td>\n",
       "      <td>1.0</td>\n",
       "      <td>1.0</td>\n",
       "      <td>1.0</td>\n",
       "      <td>1.0</td>\n",
       "      <td>0</td>\n",
       "      <td>...</td>\n",
       "      <td>0</td>\n",
       "      <td>11</td>\n",
       "      <td>1</td>\n",
       "      <td>0</td>\n",
       "      <td>4</td>\n",
       "      <td>0</td>\n",
       "      <td>0</td>\n",
       "      <td>6</td>\n",
       "      <td>0</td>\n",
       "      <td>0</td>\n",
       "    </tr>\n",
       "    <tr>\n",
       "      <th>2</th>\n",
       "      <td>2011</td>\n",
       "      <td>1</td>\n",
       "      <td>31.0</td>\n",
       "      <td>3.0</td>\n",
       "      <td>3</td>\n",
       "      <td>1.0</td>\n",
       "      <td>1.0</td>\n",
       "      <td>1.0</td>\n",
       "      <td>1.0</td>\n",
       "      <td>0</td>\n",
       "      <td>...</td>\n",
       "      <td>0</td>\n",
       "      <td>5</td>\n",
       "      <td>1</td>\n",
       "      <td>0</td>\n",
       "      <td>2</td>\n",
       "      <td>2</td>\n",
       "      <td>0</td>\n",
       "      <td>0</td>\n",
       "      <td>0</td>\n",
       "      <td>0</td>\n",
       "    </tr>\n",
       "    <tr>\n",
       "      <th>3</th>\n",
       "      <td>2011</td>\n",
       "      <td>2</td>\n",
       "      <td>1.0</td>\n",
       "      <td>4.0</td>\n",
       "      <td>4</td>\n",
       "      <td>1.0</td>\n",
       "      <td>1.0</td>\n",
       "      <td>1.0</td>\n",
       "      <td>1.0</td>\n",
       "      <td>1</td>\n",
       "      <td>...</td>\n",
       "      <td>0</td>\n",
       "      <td>6</td>\n",
       "      <td>1</td>\n",
       "      <td>0</td>\n",
       "      <td>5</td>\n",
       "      <td>2</td>\n",
       "      <td>0</td>\n",
       "      <td>2</td>\n",
       "      <td>0</td>\n",
       "      <td>0</td>\n",
       "    </tr>\n",
       "    <tr>\n",
       "      <th>4</th>\n",
       "      <td>2011</td>\n",
       "      <td>2</td>\n",
       "      <td>2.0</td>\n",
       "      <td>5.0</td>\n",
       "      <td>5</td>\n",
       "      <td>1.0</td>\n",
       "      <td>1.0</td>\n",
       "      <td>1.0</td>\n",
       "      <td>1.0</td>\n",
       "      <td>1</td>\n",
       "      <td>...</td>\n",
       "      <td>0</td>\n",
       "      <td>5</td>\n",
       "      <td>1</td>\n",
       "      <td>0</td>\n",
       "      <td>2</td>\n",
       "      <td>0</td>\n",
       "      <td>0</td>\n",
       "      <td>2</td>\n",
       "      <td>0</td>\n",
       "      <td>0</td>\n",
       "    </tr>\n",
       "  </tbody>\n",
       "</table>\n",
       "<p>5 rows × 30502 columns</p>\n",
       "</div>"
      ],
      "text/plain": [
       "      0  1     2    3  4    5    6    7    8  9  ...    30492  30493  30494  \\\n",
       "0  2011  1  29.0  1.0  1  1.0  1.0  1.0  1.0  0  ...        0     14      1   \n",
       "1  2011  1  30.0  2.0  2  1.0  1.0  1.0  1.0  0  ...        0     11      1   \n",
       "2  2011  1  31.0  3.0  3  1.0  1.0  1.0  1.0  0  ...        0      5      1   \n",
       "3  2011  2   1.0  4.0  4  1.0  1.0  1.0  1.0  1  ...        0      6      1   \n",
       "4  2011  2   2.0  5.0  5  1.0  1.0  1.0  1.0  1  ...        0      5      1   \n",
       "\n",
       "   30495  30496  30497  30498  30499  30500  30501  \n",
       "0      0      4      0      0      0      0      0  \n",
       "1      0      4      0      0      6      0      0  \n",
       "2      0      2      2      0      0      0      0  \n",
       "3      0      5      2      0      2      0      0  \n",
       "4      0      2      0      0      2      0      0  \n",
       "\n",
       "[5 rows x 30502 columns]"
      ]
     },
     "execution_count": 63,
     "metadata": {},
     "output_type": "execute_result"
    }
   ],
   "source": [
    "time_feature=pd.read_csv(\"df_time.csv\")\n",
    "time_feature.head()"
   ]
  },
  {
   "cell_type": "code",
   "execution_count": 25,
   "metadata": {},
   "outputs": [],
   "source": [
    "X_train=time_feature.iloc[:-28,:12]\n",
    "y_train=time_feature.iloc[:-28,12:]\n",
    "X_test=time_feature.iloc[-28:,:12]\n",
    "y_test=time_feature.iloc[-28:,12:]"
   ]
  },
  {
   "cell_type": "code",
   "execution_count": 28,
   "metadata": {},
   "outputs": [
    {
     "name": "stdout",
     "output_type": "stream",
     "text": [
      "<class 'pandas.core.frame.DataFrame'>\n",
      "RangeIndex: 1913 entries, 0 to 1912\n",
      "Columns: 30490 entries, 12 to 30501\n",
      "dtypes: int64(30490)\n",
      "memory usage: 445.0 MB\n"
     ]
    }
   ],
   "source": [
    "y_train.info()"
   ]
  },
  {
   "cell_type": "code",
   "execution_count": 29,
   "metadata": {},
   "outputs": [],
   "source": [
    "sc_x = MinMaxScaler(feature_range=(-1, 1))\n",
    "X_train.iloc[:,:] = sc_x.fit_transform(X_train.iloc[:,:])\n",
    "sc_y = MinMaxScaler(feature_range=(-1, 1))\n",
    "y_train.iloc[:,:] = sc_y.fit_transform(y_train.iloc[:,:])"
   ]
  },
  {
   "cell_type": "code",
   "execution_count": 5,
   "metadata": {},
   "outputs": [
    {
     "data": {
      "text/html": [
       "<div>\n",
       "<style scoped>\n",
       "    .dataframe tbody tr th:only-of-type {\n",
       "        vertical-align: middle;\n",
       "    }\n",
       "\n",
       "    .dataframe tbody tr th {\n",
       "        vertical-align: top;\n",
       "    }\n",
       "\n",
       "    .dataframe thead th {\n",
       "        text-align: right;\n",
       "    }\n",
       "</style>\n",
       "<table border=\"1\" class=\"dataframe\">\n",
       "  <thead>\n",
       "    <tr style=\"text-align: right;\">\n",
       "      <th></th>\n",
       "      <th>0</th>\n",
       "      <th>1</th>\n",
       "      <th>2</th>\n",
       "      <th>3</th>\n",
       "      <th>4</th>\n",
       "      <th>5</th>\n",
       "      <th>6</th>\n",
       "      <th>7</th>\n",
       "      <th>8</th>\n",
       "      <th>9</th>\n",
       "      <th>10</th>\n",
       "      <th>11</th>\n",
       "    </tr>\n",
       "  </thead>\n",
       "  <tbody>\n",
       "    <tr>\n",
       "      <th>0</th>\n",
       "      <td>-1.0</td>\n",
       "      <td>-1.000000</td>\n",
       "      <td>0.866667</td>\n",
       "      <td>-1.000000</td>\n",
       "      <td>-1.000000</td>\n",
       "      <td>-1.0</td>\n",
       "      <td>-1.0</td>\n",
       "      <td>-1.0</td>\n",
       "      <td>-1.0</td>\n",
       "      <td>-1.0</td>\n",
       "      <td>-1.0</td>\n",
       "      <td>-1.0</td>\n",
       "    </tr>\n",
       "    <tr>\n",
       "      <th>1</th>\n",
       "      <td>-1.0</td>\n",
       "      <td>-1.000000</td>\n",
       "      <td>0.933333</td>\n",
       "      <td>-0.998954</td>\n",
       "      <td>-0.666667</td>\n",
       "      <td>-1.0</td>\n",
       "      <td>-1.0</td>\n",
       "      <td>-1.0</td>\n",
       "      <td>-1.0</td>\n",
       "      <td>-1.0</td>\n",
       "      <td>-1.0</td>\n",
       "      <td>-1.0</td>\n",
       "    </tr>\n",
       "    <tr>\n",
       "      <th>2</th>\n",
       "      <td>-1.0</td>\n",
       "      <td>-1.000000</td>\n",
       "      <td>1.000000</td>\n",
       "      <td>-0.997908</td>\n",
       "      <td>-0.333333</td>\n",
       "      <td>-1.0</td>\n",
       "      <td>-1.0</td>\n",
       "      <td>-1.0</td>\n",
       "      <td>-1.0</td>\n",
       "      <td>-1.0</td>\n",
       "      <td>-1.0</td>\n",
       "      <td>-1.0</td>\n",
       "    </tr>\n",
       "    <tr>\n",
       "      <th>3</th>\n",
       "      <td>-1.0</td>\n",
       "      <td>-0.818182</td>\n",
       "      <td>-1.000000</td>\n",
       "      <td>-0.996862</td>\n",
       "      <td>0.000000</td>\n",
       "      <td>-1.0</td>\n",
       "      <td>-1.0</td>\n",
       "      <td>-1.0</td>\n",
       "      <td>-1.0</td>\n",
       "      <td>1.0</td>\n",
       "      <td>1.0</td>\n",
       "      <td>-1.0</td>\n",
       "    </tr>\n",
       "    <tr>\n",
       "      <th>4</th>\n",
       "      <td>-1.0</td>\n",
       "      <td>-0.818182</td>\n",
       "      <td>-0.933333</td>\n",
       "      <td>-0.995816</td>\n",
       "      <td>0.333333</td>\n",
       "      <td>-1.0</td>\n",
       "      <td>-1.0</td>\n",
       "      <td>-1.0</td>\n",
       "      <td>-1.0</td>\n",
       "      <td>1.0</td>\n",
       "      <td>-1.0</td>\n",
       "      <td>1.0</td>\n",
       "    </tr>\n",
       "  </tbody>\n",
       "</table>\n",
       "</div>"
      ],
      "text/plain": [
       "     0         1         2         3         4    5    6    7    8    9   10  \\\n",
       "0 -1.0 -1.000000  0.866667 -1.000000 -1.000000 -1.0 -1.0 -1.0 -1.0 -1.0 -1.0   \n",
       "1 -1.0 -1.000000  0.933333 -0.998954 -0.666667 -1.0 -1.0 -1.0 -1.0 -1.0 -1.0   \n",
       "2 -1.0 -1.000000  1.000000 -0.997908 -0.333333 -1.0 -1.0 -1.0 -1.0 -1.0 -1.0   \n",
       "3 -1.0 -0.818182 -1.000000 -0.996862  0.000000 -1.0 -1.0 -1.0 -1.0  1.0  1.0   \n",
       "4 -1.0 -0.818182 -0.933333 -0.995816  0.333333 -1.0 -1.0 -1.0 -1.0  1.0 -1.0   \n",
       "\n",
       "    11  \n",
       "0 -1.0  \n",
       "1 -1.0  \n",
       "2 -1.0  \n",
       "3 -1.0  \n",
       "4  1.0  "
      ]
     },
     "execution_count": 5,
     "metadata": {},
     "output_type": "execute_result"
    }
   ],
   "source": [
    "X_train.head()"
   ]
  },
  {
   "cell_type": "code",
   "execution_count": 30,
   "metadata": {},
   "outputs": [],
   "source": [
    "#X_train.to_csv(\"df_time_normXtrain.csv\",index=False)\n",
    "#y_train.to_csv(\"df_time_normytrain.csv\",index=False)"
   ]
  },
  {
   "cell_type": "code",
   "execution_count": 8,
   "metadata": {},
   "outputs": [
    {
     "data": {
      "text/plain": [
       "['time_normy.save']"
      ]
     },
     "execution_count": 8,
     "metadata": {},
     "output_type": "execute_result"
    }
   ],
   "source": [
    "joblib.dump(sc_x, \"time_normX.save\")\n",
    "joblib.dump(sc_y, \"time_normy.save\")"
   ]
  },
  {
   "cell_type": "code",
   "execution_count": 55,
   "metadata": {},
   "outputs": [],
   "source": [
    "#X_train=pd.read_csv(\"df_time_normXtrain.csv\")\n",
    "#y_train=pd.read_csv(\"df_time_normytrain.csv\")"
   ]
  },
  {
   "cell_type": "code",
   "execution_count": 64,
   "metadata": {},
   "outputs": [],
   "source": [
    "X_test=time_feature.iloc[-28:,:12]\n",
    "y_test=time_feature.iloc[-28:,12:]"
   ]
  },
  {
   "cell_type": "code",
   "execution_count": 60,
   "metadata": {},
   "outputs": [],
   "source": [
    "#sc_x = joblib.load(\"time_normX.save\") \n",
    "#sc_y = joblib.load(\"time_normy.save\") "
   ]
  },
  {
   "cell_type": "code",
   "execution_count": 65,
   "metadata": {},
   "outputs": [],
   "source": [
    "X_test.iloc[:,:]=sc_x.transform(X_test.iloc[:,:])\n",
    "y_test.iloc[:,:]=sc_y.transform(y_test.iloc[:,:])"
   ]
  },
  {
   "cell_type": "code",
   "execution_count": 66,
   "metadata": {},
   "outputs": [],
   "source": [
    "#X_test.to_csv(\"df_time_normXtest.csv\",index=False)\n",
    "#y_test.to_csv(\"df_time_normytest.csv\",index=False)"
   ]
  },
  {
   "cell_type": "code",
   "execution_count": 56,
   "metadata": {},
   "outputs": [],
   "source": [
    "#X_test=pd.read_csv(\"df_time_normXtest.csv\")\n",
    "#y_test=pd.read_csv(\"df_time_normytest.csv\")"
   ]
  },
  {
   "cell_type": "code",
   "execution_count": 57,
   "metadata": {},
   "outputs": [
    {
     "data": {
      "text/plain": [
       "(1913, 30490)"
      ]
     },
     "execution_count": 57,
     "metadata": {},
     "output_type": "execute_result"
    }
   ],
   "source": [
    "y_train.shape # (1913, 30490)"
   ]
  },
  {
   "cell_type": "code",
   "execution_count": 67,
   "metadata": {},
   "outputs": [
    {
     "data": {
      "text/plain": [
       "(28, 30490)"
      ]
     },
     "execution_count": 67,
     "metadata": {},
     "output_type": "execute_result"
    }
   ],
   "source": [
    "y_test.shape # (28, 30490)"
   ]
  },
  {
   "cell_type": "code",
   "execution_count": 68,
   "metadata": {},
   "outputs": [
    {
     "data": {
      "text/plain": [
       "(28, 12)"
      ]
     },
     "execution_count": 68,
     "metadata": {},
     "output_type": "execute_result"
    }
   ],
   "source": [
    "X_test.shape # (28, 12)"
   ]
  },
  {
   "cell_type": "markdown",
   "metadata": {},
   "source": [
    "### Decision Tree"
   ]
  },
  {
   "cell_type": "code",
   "execution_count": 69,
   "metadata": {},
   "outputs": [],
   "source": [
    "score=[] # [r2,mse]\n",
    "for row in decision_params:\n",
    "    #print(row)\n",
    "    decision=DecisionTreeRegressor(max_depth=row[0],min_samples_split=row[1],splitter=row[2],random_state=0)\n",
    "    decision.fit(X_train,y_train)\n",
    "    pred=decision.predict(X_test)\n",
    "    score.append([decision.score(X_test,y_test),mean_squared_error(y_test,pred)])"
   ]
  },
  {
   "cell_type": "code",
   "execution_count": 70,
   "metadata": {
    "scrolled": true
   },
   "outputs": [
    {
     "data": {
      "text/plain": [
       "[[-0.2133538981501621, 0.08687849123923105],\n",
       " [-0.19474330525573158, 0.08557217251291376],\n",
       " [-0.2133538981501621, 0.08687849123923105],\n",
       " [-0.19474330525573158, 0.08557217251291376],\n",
       " [-0.2133538981501621, 0.08687849123923105],\n",
       " [-0.19474330525573158, 0.08557217251291376],\n",
       " [-0.2133538981501621, 0.08687849123923105],\n",
       " [-0.19474330525573158, 0.08557217251291376],\n",
       " [-0.2133538981501621, 0.08687849123923105],\n",
       " [-0.19474330525573158, 0.08557217251291376],\n",
       " [-0.2133538981501621, 0.08687849123923105],\n",
       " [-0.19474330525573158, 0.08557217251291376],\n",
       " [-0.2133538981501621, 0.08687849123923105],\n",
       " [-0.19474330525573158, 0.08557217251291376],\n",
       " [-0.15224209072096737, 0.08259062058749066],\n",
       " [-0.1373510837905793, 0.08140310176119678],\n",
       " [-0.15224209072096737, 0.08259062058749066],\n",
       " [-0.1373510837905793, 0.08140310176119678],\n",
       " [-0.15224209072096737, 0.08259062058749066],\n",
       " [-0.1373510837905793, 0.08140310176119678],\n",
       " [-0.15224209072096737, 0.08259062058749066],\n",
       " [-0.1373510837905793, 0.08140310176119678],\n",
       " [-0.15224209072096737, 0.08259062058749066],\n",
       " [-0.1373510837905793, 0.08140310176119678],\n",
       " [-0.15224209072096737, 0.08259062058749066],\n",
       " [-0.1373510837905793, 0.08140310176119678],\n",
       " [-0.15224209072096737, 0.08259062058749066],\n",
       " [-0.1373510837905793, 0.08140310176119678],\n",
       " [-0.12609448772877999, 0.08053736361206072],\n",
       " [-0.12122807676588712, 0.08005683702159838],\n",
       " [-0.12609448772877999, 0.08053736361206072],\n",
       " [-0.12122807676588712, 0.08005683702159838],\n",
       " [-0.12609448772877999, 0.08053736361206072],\n",
       " [-0.12122807676588712, 0.08005683702159838],\n",
       " [-0.12609448772877999, 0.08053736361206072],\n",
       " [-0.12122807676588712, 0.08005683702159838],\n",
       " [-0.12609448772877999, 0.08053736361206072],\n",
       " [-0.12122807676588712, 0.08005683702159838],\n",
       " [-0.12609448772877999, 0.08053736361206072],\n",
       " [-0.12122807676588712, 0.08005683702159838],\n",
       " [-0.12609448772877999, 0.08053736361206072],\n",
       " [-0.12122807676588712, 0.08005683702159838],\n",
       " [-0.12011218446004247, 0.07998052108338795],\n",
       " [-0.1496665321139267, 0.08203369254539694],\n",
       " [-0.12011218446004247, 0.07998052108338795],\n",
       " [-0.43263248353548966, 0.1023108117818381],\n",
       " [-0.12011218446004247, 0.07998052108338795],\n",
       " [-0.1954722744493142, 0.0853206711403652],\n",
       " [-0.12011218446004247, 0.07998052108338795],\n",
       " [-0.22564224061471977, 0.08749423406989223],\n",
       " [-0.12011218446004247, 0.07998052108338795],\n",
       " [-0.12528825592141654, 0.08035500525815313],\n",
       " [-0.12011218446004247, 0.07998052108338795],\n",
       " [-0.17091971910881162, 0.08357257339120501],\n",
       " [-0.12011218446004247, 0.07998052108338796],\n",
       " [-0.19287231786069706, 0.08513881587564912],\n",
       " [-0.19062466993215144, 0.08497837308846622],\n",
       " [-0.5605814436591275, 0.11151114523707081],\n",
       " [-0.1906246699321514, 0.08497837308846622],\n",
       " [-0.36449837569963384, 0.09743521109549433],\n",
       " [-0.21683053153564666, 0.0868602546251587],\n",
       " [-0.25519092136950294, 0.0896100598379442],\n",
       " [-0.21683053153564666, 0.0868602546251587],\n",
       " [-0.30863174439073937, 0.09349116588569267],\n",
       " [-0.18792607877534287, 0.08479859306914757],\n",
       " [-0.24019448061367155, 0.08855340119692094],\n",
       " [-0.15097178766258626, 0.08212566152799018],\n",
       " [-0.19390457998748423, 0.08522453531281685],\n",
       " [-0.15097178766258626, 0.08212566152799018],\n",
       " [-0.1568940040685014, 0.08255056470868397],\n",
       " [-0.9508668080796229, 0.13954714126529855],\n",
       " [-0.9434479567015867, 0.13896253308020728],\n",
       " [-0.4864042980415853, 0.10622556172475182],\n",
       " [-0.5946683806117008, 0.1139813427903552],\n",
       " [-0.38325849775439935, 0.09883994298202885],\n",
       " [-0.37684017713735485, 0.09836055561957435],\n",
       " [-0.2572176886672222, 0.08975344721586852],\n",
       " [-0.30041674982550376, 0.09287424443937206],\n",
       " [-0.25633249594361845, 0.0897150290001102],\n",
       " [-0.25772354236342143, 0.08981695719118987],\n",
       " [-0.22175881092189564, 0.08721275207650651],\n",
       " [-0.20771184911950705, 0.08621496510368501],\n",
       " [-0.19055544656739254, 0.0849731310495791],\n",
       " [-0.1893041834583696, 0.08489804018558193]]"
      ]
     },
     "execution_count": 70,
     "metadata": {},
     "output_type": "execute_result"
    }
   ],
   "source": [
    "score"
   ]
  },
  {
   "cell_type": "code",
   "execution_count": 71,
   "metadata": {},
   "outputs": [
    {
     "data": {
      "text/plain": [
       "54"
      ]
     },
     "execution_count": 71,
     "metadata": {},
     "output_type": "execute_result"
    }
   ],
   "source": [
    "max_ind=score.index(max(score))\n",
    "max_ind"
   ]
  },
  {
   "cell_type": "code",
   "execution_count": 72,
   "metadata": {},
   "outputs": [
    {
     "name": "stdout",
     "output_type": "stream",
     "text": [
      "Wall time: 8.05 s\n"
     ]
    },
    {
     "data": {
      "text/plain": [
       "DecisionTreeRegressor(criterion='mse', max_depth=7, max_features=None,\n",
       "           max_leaf_nodes=None, min_impurity_decrease=0.0,\n",
       "           min_impurity_split=None, min_samples_leaf=1,\n",
       "           min_samples_split=14, min_weight_fraction_leaf=0.0,\n",
       "           presort=False, random_state=0, splitter='best')"
      ]
     },
     "execution_count": 72,
     "metadata": {},
     "output_type": "execute_result"
    }
   ],
   "source": [
    "%%time\n",
    "decision=DecisionTreeRegressor(max_depth=decision_params[max_ind][0],min_samples_split=decision_params[max_ind][1],splitter=decision_params[max_ind][2],random_state=0)\n",
    "decision.fit(X_train,y_train)"
   ]
  },
  {
   "cell_type": "code",
   "execution_count": 73,
   "metadata": {},
   "outputs": [
    {
     "name": "stdout",
     "output_type": "stream",
     "text": [
      "r2\t -0.12011218446004247 \n",
      "mse\t 0.07998052108338796\n"
     ]
    }
   ],
   "source": [
    "pred=decision.predict(X_test)\n",
    "print(\"r2\\t\",decision.score(X_test,y_test),\"\\nmse\\t\",mean_squared_error(y_test,pred))"
   ]
  },
  {
   "cell_type": "markdown",
   "metadata": {},
   "source": [
    "### Random Forest"
   ]
  },
  {
   "cell_type": "code",
   "execution_count": 74,
   "metadata": {},
   "outputs": [],
   "source": [
    "score=[] # [r2,mse]\n",
    "for row in random_params:\n",
    "    #print(row)\n",
    "    rf=RandomForestRegressor(n_estimators=row[0],max_depth=row[1],min_samples_split=row[2],random_state=0)\n",
    "    rf.fit(X_train,y_train)\n",
    "    pred=rf.predict(X_test)\n",
    "    score.append([rf.score(X_test,y_test),mean_squared_error(y_test,pred)])"
   ]
  },
  {
   "cell_type": "code",
   "execution_count": 75,
   "metadata": {},
   "outputs": [
    {
     "data": {
      "text/plain": [
       "56"
      ]
     },
     "execution_count": 75,
     "metadata": {},
     "output_type": "execute_result"
    }
   ],
   "source": [
    "max_ind=score.index(max(score))\n",
    "max_ind"
   ]
  },
  {
   "cell_type": "code",
   "execution_count": 76,
   "metadata": {},
   "outputs": [
    {
     "name": "stdout",
     "output_type": "stream",
     "text": [
      "Wall time: 21.6 s\n"
     ]
    },
    {
     "data": {
      "text/plain": [
       "RandomForestRegressor(bootstrap=True, criterion='mse', max_depth=5,\n",
       "           max_features='auto', max_leaf_nodes=None,\n",
       "           min_impurity_decrease=0.0, min_impurity_split=None,\n",
       "           min_samples_leaf=1, min_samples_split=2,\n",
       "           min_weight_fraction_leaf=0.0, n_estimators=6, n_jobs=1,\n",
       "           oob_score=False, random_state=0, verbose=0, warm_start=False)"
      ]
     },
     "execution_count": 76,
     "metadata": {},
     "output_type": "execute_result"
    }
   ],
   "source": [
    "%%time\n",
    "rf=RandomForestRegressor(n_estimators=random_params[max_ind][0],max_depth=random_params[max_ind][1],min_samples_split=random_params[max_ind][2],random_state=0)\n",
    "rf.fit(X_train,y_train)"
   ]
  },
  {
   "cell_type": "code",
   "execution_count": 77,
   "metadata": {},
   "outputs": [
    {
     "name": "stdout",
     "output_type": "stream",
     "text": [
      "r2\t -0.11158950156942116 \n",
      "mse\t 0.07945805772822152\n"
     ]
    }
   ],
   "source": [
    "pred=rf.predict(X_test)\n",
    "print(\"r2\\t\",rf.score(X_test,y_test),\"\\nmse\\t\",mean_squared_error(y_test,pred))"
   ]
  },
  {
   "cell_type": "markdown",
   "metadata": {},
   "source": [
    "## statistic"
   ]
  },
  {
   "cell_type": "markdown",
   "metadata": {},
   "source": [
    "### statistic - load data"
   ]
  },
  {
   "cell_type": "code",
   "execution_count": 78,
   "metadata": {},
   "outputs": [
    {
     "data": {
      "text/html": [
       "<div>\n",
       "<style scoped>\n",
       "    .dataframe tbody tr th:only-of-type {\n",
       "        vertical-align: middle;\n",
       "    }\n",
       "\n",
       "    .dataframe tbody tr th {\n",
       "        vertical-align: top;\n",
       "    }\n",
       "\n",
       "    .dataframe thead th {\n",
       "        text-align: right;\n",
       "    }\n",
       "</style>\n",
       "<table border=\"1\" class=\"dataframe\">\n",
       "  <thead>\n",
       "    <tr style=\"text-align: right;\">\n",
       "      <th></th>\n",
       "      <th>HOBBIES_1_004_CA_1</th>\n",
       "      <th>min_value</th>\n",
       "      <th>max_value</th>\n",
       "      <th>mean_value</th>\n",
       "    </tr>\n",
       "  </thead>\n",
       "  <tbody>\n",
       "    <tr>\n",
       "      <th>0</th>\n",
       "      <td>0</td>\n",
       "      <td>NaN</td>\n",
       "      <td>NaN</td>\n",
       "      <td>NaN</td>\n",
       "    </tr>\n",
       "    <tr>\n",
       "      <th>1</th>\n",
       "      <td>0</td>\n",
       "      <td>NaN</td>\n",
       "      <td>NaN</td>\n",
       "      <td>NaN</td>\n",
       "    </tr>\n",
       "    <tr>\n",
       "      <th>2</th>\n",
       "      <td>0</td>\n",
       "      <td>NaN</td>\n",
       "      <td>NaN</td>\n",
       "      <td>NaN</td>\n",
       "    </tr>\n",
       "    <tr>\n",
       "      <th>3</th>\n",
       "      <td>0</td>\n",
       "      <td>NaN</td>\n",
       "      <td>NaN</td>\n",
       "      <td>NaN</td>\n",
       "    </tr>\n",
       "    <tr>\n",
       "      <th>4</th>\n",
       "      <td>0</td>\n",
       "      <td>NaN</td>\n",
       "      <td>NaN</td>\n",
       "      <td>NaN</td>\n",
       "    </tr>\n",
       "    <tr>\n",
       "      <th>5</th>\n",
       "      <td>0</td>\n",
       "      <td>NaN</td>\n",
       "      <td>NaN</td>\n",
       "      <td>NaN</td>\n",
       "    </tr>\n",
       "    <tr>\n",
       "      <th>6</th>\n",
       "      <td>0</td>\n",
       "      <td>NaN</td>\n",
       "      <td>NaN</td>\n",
       "      <td>NaN</td>\n",
       "    </tr>\n",
       "    <tr>\n",
       "      <th>7</th>\n",
       "      <td>0</td>\n",
       "      <td>0.0</td>\n",
       "      <td>0.0</td>\n",
       "      <td>0.0</td>\n",
       "    </tr>\n",
       "    <tr>\n",
       "      <th>8</th>\n",
       "      <td>0</td>\n",
       "      <td>0.0</td>\n",
       "      <td>0.0</td>\n",
       "      <td>0.0</td>\n",
       "    </tr>\n",
       "    <tr>\n",
       "      <th>9</th>\n",
       "      <td>0</td>\n",
       "      <td>0.0</td>\n",
       "      <td>0.0</td>\n",
       "      <td>0.0</td>\n",
       "    </tr>\n",
       "  </tbody>\n",
       "</table>\n",
       "</div>"
      ],
      "text/plain": [
       "   HOBBIES_1_004_CA_1  min_value  max_value  mean_value\n",
       "0                   0        NaN        NaN         NaN\n",
       "1                   0        NaN        NaN         NaN\n",
       "2                   0        NaN        NaN         NaN\n",
       "3                   0        NaN        NaN         NaN\n",
       "4                   0        NaN        NaN         NaN\n",
       "5                   0        NaN        NaN         NaN\n",
       "6                   0        NaN        NaN         NaN\n",
       "7                   0        0.0        0.0         0.0\n",
       "8                   0        0.0        0.0         0.0\n",
       "9                   0        0.0        0.0         0.0"
      ]
     },
     "execution_count": 78,
     "metadata": {},
     "output_type": "execute_result"
    }
   ],
   "source": [
    "stat_feature=pd.read_csv(\"statistic_HOBBIES_1_004_CA_1.csv\")\n",
    "stat_feature.head(10)"
   ]
  },
  {
   "cell_type": "code",
   "execution_count": 79,
   "metadata": {},
   "outputs": [],
   "source": [
    "sc = MinMaxScaler(feature_range=(-1, 1))\n",
    "stat_feature.iloc[7:-28,:]=sc.fit_transform(stat_feature.iloc[7:-28,:])\n",
    "stat_feature.iloc[-28:,:]=sc.transform(stat_feature.iloc[-28:,:])"
   ]
  },
  {
   "cell_type": "code",
   "execution_count": 80,
   "metadata": {},
   "outputs": [],
   "source": [
    "X_train=stat_feature.iloc[7:-28,:1]\n",
    "y_train=stat_feature.iloc[7:-28,1:]\n",
    "X_test=stat_feature.iloc[-28:,:1]\n",
    "y_test=stat_feature.iloc[-28:,1:]"
   ]
  },
  {
   "cell_type": "markdown",
   "metadata": {},
   "source": [
    "### Decision Tree"
   ]
  },
  {
   "cell_type": "code",
   "execution_count": 83,
   "metadata": {},
   "outputs": [],
   "source": [
    "score=[] # [r2,mse]\n",
    "for row in decision_params:\n",
    "    #print(row)\n",
    "    decision=DecisionTreeRegressor(max_depth=row[0],min_samples_split=row[1],splitter=row[2],random_state=0)\n",
    "    decision.fit(X_train,y_train)\n",
    "    pred=decision.predict(X_test)\n",
    "    score.append([decision.score(X_test,y_test),mean_squared_error(y_test,pred)])"
   ]
  },
  {
   "cell_type": "code",
   "execution_count": 84,
   "metadata": {
    "scrolled": true
   },
   "outputs": [
    {
     "data": {
      "text/plain": [
       "[[-0.23032115480942558, 0.07089458294550006],\n",
       " [-0.23032115480942517, 0.07089458294550004],\n",
       " [-0.23032115480942558, 0.07089458294550006],\n",
       " [-0.23032115480942517, 0.07089458294550004],\n",
       " [-0.23032115480942558, 0.07089458294550006],\n",
       " [-0.23032115480942517, 0.07089458294550004],\n",
       " [-0.23032115480942558, 0.07089458294550006],\n",
       " [-0.23032115480942517, 0.07089458294550004],\n",
       " [-0.23032115480942558, 0.07089458294550006],\n",
       " [-0.23032115480942517, 0.07089458294550004],\n",
       " [-0.23032115480942558, 0.07089458294550006],\n",
       " [-0.23032115480942517, 0.07089458294550004],\n",
       " [-0.23032115480942558, 0.07089458294550006],\n",
       " [-0.23032115480942517, 0.07089458294550004],\n",
       " [-0.25441728874539077, 0.0722830703004572],\n",
       " [-0.23992458190661048, 0.07144795956284994],\n",
       " [-0.25441728874539077, 0.0722830703004572],\n",
       " [-0.23992458190661048, 0.07144795956284994],\n",
       " [-0.25441728874539077, 0.0722830703004572],\n",
       " [-0.23992458190661048, 0.07144795956284994],\n",
       " [-0.25441728874539077, 0.0722830703004572],\n",
       " [-0.23992458190661048, 0.07144795956284994],\n",
       " [-0.25441728874539077, 0.0722830703004572],\n",
       " [-0.23992458190661048, 0.07144795956284994],\n",
       " [-0.25441728874539077, 0.0722830703004572],\n",
       " [-0.23992458190661048, 0.07144795956284994],\n",
       " [-0.25441728874539077, 0.0722830703004572],\n",
       " [-0.23992458190661048, 0.07144795956284994],\n",
       " [-0.23640954265758607, 0.07124541306462669],\n",
       " [-0.25272676785774206, 0.07218565770796295],\n",
       " [-0.23640954265758607, 0.07124541306462669],\n",
       " [-0.25272676785774206, 0.07218565770796295],\n",
       " [-0.23640954265758607, 0.07124541306462669],\n",
       " [-0.25272676785774206, 0.07218565770796295],\n",
       " [-0.23640954265758607, 0.07124541306462669],\n",
       " [-0.25272676785774206, 0.07218565770796295],\n",
       " [-0.23640954265758607, 0.07124541306462669],\n",
       " [-0.25272676785774206, 0.07218565770796295],\n",
       " [-0.23640954265758607, 0.07124541306462669],\n",
       " [-0.25272676785774206, 0.07218565770796295],\n",
       " [-0.23640954265758607, 0.07124541306462669],\n",
       " [-0.25272676785774206, 0.07218565770796295],\n",
       " [-0.2378245416865833, 0.07132694930875035],\n",
       " [-0.23015536227853106, 0.07088502951118959],\n",
       " [-0.2378245416865833, 0.07132694930875035],\n",
       " [-0.23015536227853106, 0.07088502951118959],\n",
       " [-0.2378245416865833, 0.07132694930875035],\n",
       " [-0.23015536227853106, 0.07088502951118959],\n",
       " [-0.2378245416865833, 0.07132694930875035],\n",
       " [-0.23015536227853106, 0.07088502951118959],\n",
       " [-0.2378245416865833, 0.07132694930875035],\n",
       " [-0.23015536227853106, 0.07088502951118959],\n",
       " [-0.2378245416865833, 0.07132694930875035],\n",
       " [-0.23015536227853106, 0.07088502951118959],\n",
       " [-0.2378245416865833, 0.07132694930875035],\n",
       " [-0.23015536227853106, 0.07088502951118959],\n",
       " [-0.23684893584450095, 0.07127073214218106],\n",
       " [-0.23015536227853106, 0.07088502951118959],\n",
       " [-0.23684893584450095, 0.07127073214218106],\n",
       " [-0.23015536227853106, 0.07088502951118959],\n",
       " [-0.23684893584450095, 0.07127073214218106],\n",
       " [-0.23015536227853106, 0.07088502951118959],\n",
       " [-0.23684893584450095, 0.07127073214218106],\n",
       " [-0.23015536227853106, 0.07088502951118959],\n",
       " [-0.23684893584450095, 0.07127073214218106],\n",
       " [-0.23015536227853106, 0.07088502951118959],\n",
       " [-0.23684893584450095, 0.07127073214218106],\n",
       " [-0.23015536227853106, 0.07088502951118959],\n",
       " [-0.23684893584450095, 0.07127073214218106],\n",
       " [-0.23015536227853106, 0.07088502951118959],\n",
       " [-0.2301553622785317, 0.07088502951118965],\n",
       " [-0.23015536227853106, 0.07088502951118959],\n",
       " [-0.2301553622785317, 0.07088502951118965],\n",
       " [-0.23015536227853106, 0.07088502951118959],\n",
       " [-0.2301553622785317, 0.07088502951118965],\n",
       " [-0.23015536227853106, 0.07088502951118959],\n",
       " [-0.2301553622785317, 0.07088502951118965],\n",
       " [-0.23015536227853106, 0.07088502951118959],\n",
       " [-0.2301553622785317, 0.07088502951118965],\n",
       " [-0.23015536227853106, 0.07088502951118959],\n",
       " [-0.2301553622785317, 0.07088502951118965],\n",
       " [-0.23015536227853106, 0.07088502951118959],\n",
       " [-0.2301553622785317, 0.07088502951118965],\n",
       " [-0.23015536227853106, 0.07088502951118959]]"
      ]
     },
     "execution_count": 84,
     "metadata": {},
     "output_type": "execute_result"
    }
   ],
   "source": [
    "score"
   ]
  },
  {
   "cell_type": "code",
   "execution_count": 89,
   "metadata": {},
   "outputs": [
    {
     "data": {
      "text/plain": [
       "[-0.23015536227853106, 0.07088502951118959]"
      ]
     },
     "execution_count": 89,
     "metadata": {},
     "output_type": "execute_result"
    }
   ],
   "source": [
    "max_ind=score.index(max(score))\n",
    "score[max_ind]"
   ]
  },
  {
   "cell_type": "code",
   "execution_count": 87,
   "metadata": {},
   "outputs": [
    {
     "name": "stdout",
     "output_type": "stream",
     "text": [
      "Wall time: 3.99 ms\n"
     ]
    },
    {
     "data": {
      "text/plain": [
       "DecisionTreeRegressor(criterion='mse', max_depth=7, max_features=None,\n",
       "           max_leaf_nodes=None, min_impurity_decrease=0.0,\n",
       "           min_impurity_split=None, min_samples_leaf=1,\n",
       "           min_samples_split=2, min_weight_fraction_leaf=0.0,\n",
       "           presort=False, random_state=0, splitter='random')"
      ]
     },
     "execution_count": 87,
     "metadata": {},
     "output_type": "execute_result"
    }
   ],
   "source": [
    "%%time\n",
    "decision=DecisionTreeRegressor(max_depth=decision_params[max_ind][0],min_samples_split=decision_params[max_ind][1],splitter=decision_params[max_ind][2],random_state=0)\n",
    "decision.fit(X_train,y_train)"
   ]
  },
  {
   "cell_type": "code",
   "execution_count": 88,
   "metadata": {},
   "outputs": [
    {
     "name": "stdout",
     "output_type": "stream",
     "text": [
      "r2\t -0.23015536227853106 \n",
      "mse\t 0.07088502951118959\n"
     ]
    }
   ],
   "source": [
    "pred=decision.predict(X_test)\n",
    "print(\"r2\\t\",decision.score(X_test,y_test),\"\\nmse\\t\",mean_squared_error(y_test,pred))"
   ]
  },
  {
   "cell_type": "markdown",
   "metadata": {},
   "source": [
    "### Random Forest"
   ]
  },
  {
   "cell_type": "code",
   "execution_count": 90,
   "metadata": {},
   "outputs": [],
   "source": [
    "score=[] # [r2,mse]\n",
    "for row in random_params:\n",
    "    #print(row)\n",
    "    rf=RandomForestRegressor(n_estimators=row[0],max_depth=row[1],min_samples_split=row[2],random_state=0)\n",
    "    rf.fit(X_train,y_train)\n",
    "    pred=rf.predict(X_test)\n",
    "    score.append([rf.score(X_test,y_test),mean_squared_error(y_test,pred)])"
   ]
  },
  {
   "cell_type": "code",
   "execution_count": 91,
   "metadata": {},
   "outputs": [
    {
     "data": {
      "text/plain": [
       "[-0.23681798328635756, 0.0712689485682808]"
      ]
     },
     "execution_count": 91,
     "metadata": {},
     "output_type": "execute_result"
    }
   ],
   "source": [
    "max_ind=score.index(max(score))\n",
    "score[max_ind]"
   ]
  },
  {
   "cell_type": "code",
   "execution_count": 93,
   "metadata": {},
   "outputs": [
    {
     "name": "stdout",
     "output_type": "stream",
     "text": [
      "Wall time: 39.4 ms\n"
     ]
    },
    {
     "data": {
      "text/plain": [
       "RandomForestRegressor(bootstrap=True, criterion='mse', max_depth=1,\n",
       "           max_features='auto', max_leaf_nodes=None,\n",
       "           min_impurity_decrease=0.0, min_impurity_split=None,\n",
       "           min_samples_leaf=1, min_samples_split=2,\n",
       "           min_weight_fraction_leaf=0.0, n_estimators=6, n_jobs=1,\n",
       "           oob_score=False, random_state=0, verbose=0, warm_start=False)"
      ]
     },
     "execution_count": 93,
     "metadata": {},
     "output_type": "execute_result"
    }
   ],
   "source": [
    "%%time\n",
    "rf=RandomForestRegressor(n_estimators=random_params[max_ind][0],max_depth=random_params[max_ind][1],min_samples_split=random_params[max_ind][2],random_state=0)\n",
    "rf.fit(X_train,y_train)"
   ]
  },
  {
   "cell_type": "code",
   "execution_count": 94,
   "metadata": {},
   "outputs": [
    {
     "name": "stdout",
     "output_type": "stream",
     "text": [
      "r2\t -0.23681798328635756 \n",
      "mse\t 0.0712689485682808\n"
     ]
    }
   ],
   "source": [
    "pred=rf.predict(X_test)\n",
    "print(\"r2\\t\",rf.score(X_test,y_test),\"\\nmse\\t\",mean_squared_error(y_test,pred))"
   ]
  },
  {
   "cell_type": "markdown",
   "metadata": {},
   "source": [
    "## sequence"
   ]
  },
  {
   "cell_type": "markdown",
   "metadata": {},
   "source": [
    "### sequence - load data"
   ]
  },
  {
   "cell_type": "code",
   "execution_count": 2,
   "metadata": {},
   "outputs": [],
   "source": [
    "with open(\"seq_HOBBIES_1_004_CA_1_X.pickle\", 'rb') as fp:\n",
    "    X = pickle.load(fp)\n",
    "    fp.close()\n",
    "with open(\"seq_HOBBIES_1_004_CA_1_y.pickle\", 'rb') as fp:\n",
    "    y = pickle.load(fp)\n",
    "    fp.close()"
   ]
  },
  {
   "cell_type": "code",
   "execution_count": 3,
   "metadata": {},
   "outputs": [],
   "source": [
    "for i in range(len(X)):\n",
    "    X[i]=list(X[i].astype(float))\n",
    "    y[i]=float(y[i])"
   ]
  },
  {
   "cell_type": "code",
   "execution_count": 4,
   "metadata": {},
   "outputs": [],
   "source": [
    "sc_X = MinMaxScaler(feature_range=(-1, 1))\n",
    "X[:-28]=sc_X.fit_transform(X[:-28])\n",
    "X[-28:]=sc_X.transform(X[-28:])\n",
    "\n",
    "sc_y = MinMaxScaler(feature_range=(-1, 1))\n",
    "y=list(np.array(y).reshape(-1,1))\n",
    "y[:-28]=sc_y.fit_transform(y[:-28])\n",
    "y[-28:]=sc_y.transform(y[-28:])\n",
    "#y=list(np.array(y).reshape(1,-1))"
   ]
  },
  {
   "cell_type": "code",
   "execution_count": 5,
   "metadata": {},
   "outputs": [],
   "source": [
    "for i in range(len(X)):\n",
    "    X[i]=list(X[i])\n",
    "    y[i]=list(y[i])"
   ]
  },
  {
   "cell_type": "code",
   "execution_count": 6,
   "metadata": {},
   "outputs": [],
   "source": [
    "X_train=X[:-28]\n",
    "y_train=y[:-28]\n",
    "X_test=X[-28:]\n",
    "y_test=y[-28:]"
   ]
  },
  {
   "cell_type": "code",
   "execution_count": 9,
   "metadata": {},
   "outputs": [
    {
     "data": {
      "text/plain": [
       "28"
      ]
     },
     "execution_count": 9,
     "metadata": {},
     "output_type": "execute_result"
    }
   ],
   "source": [
    "len(X_train[0])"
   ]
  },
  {
   "cell_type": "markdown",
   "metadata": {},
   "source": [
    "### Decision Tree"
   ]
  },
  {
   "cell_type": "code",
   "execution_count": 44,
   "metadata": {},
   "outputs": [],
   "source": [
    "score=[] # [r2,mse]\n",
    "for row in decision_params:\n",
    "    #print(row)\n",
    "    decision=DecisionTreeRegressor(max_depth=row[0],min_samples_split=row[1],splitter=row[2],random_state=0)\n",
    "    decision.fit(X_train,y_train)\n",
    "    pred=decision.predict(X_test)\n",
    "    score.append([decision.score(X_test,y_test),mean_squared_error(y_test,pred)])"
   ]
  },
  {
   "cell_type": "code",
   "execution_count": 45,
   "metadata": {
    "scrolled": true
   },
   "outputs": [
    {
     "data": {
      "text/plain": [
       "[[0.22695822342950334, 0.042824060321127524],\n",
       " [-0.1258251887147479, 0.0623671414065789],\n",
       " [0.22695822342950334, 0.042824060321127524],\n",
       " [-0.1258251887147479, 0.0623671414065789],\n",
       " [0.22695822342950334, 0.042824060321127524],\n",
       " [-0.1258251887147479, 0.0623671414065789],\n",
       " [0.22695822342950334, 0.042824060321127524],\n",
       " [-0.1258251887147479, 0.0623671414065789],\n",
       " [0.22695822342950334, 0.042824060321127524],\n",
       " [-0.1258251887147479, 0.0623671414065789],\n",
       " [0.22695822342950334, 0.042824060321127524],\n",
       " [-0.1258251887147479, 0.0623671414065789],\n",
       " [0.22695822342950334, 0.042824060321127524],\n",
       " [-0.1258251887147479, 0.0623671414065789],\n",
       " [0.26370952731205655, 0.040788154756840056],\n",
       " [0.04512802517202663, 0.05289687606586711],\n",
       " [0.26370952731205655, 0.040788154756840056],\n",
       " [0.04512802517202663, 0.05289687606586711],\n",
       " [0.26370952731205655, 0.040788154756840056],\n",
       " [0.04512802517202663, 0.05289687606586711],\n",
       " [0.26370952731205655, 0.040788154756840056],\n",
       " [0.04512802517202663, 0.05289687606586711],\n",
       " [0.26370952731205655, 0.040788154756840056],\n",
       " [0.04512802517202663, 0.05289687606586711],\n",
       " [0.26370952731205655, 0.040788154756840056],\n",
       " [0.04512802517202663, 0.05289687606586711],\n",
       " [0.26370952731205655, 0.040788154756840056],\n",
       " [0.04512802517202663, 0.05289687606586711],\n",
       " [0.13905466212623063, 0.04769363855840406],\n",
       " [-0.10077966967824392, 0.060979699161540835],\n",
       " [0.13905466212623108, 0.047693638558404035],\n",
       " [-0.06676182938418629, 0.05909521880239382],\n",
       " [0.13905466212623108, 0.047693638558404035],\n",
       " [-0.06676182938418629, 0.05909521880239382],\n",
       " [0.13905466212623108, 0.047693638558404035],\n",
       " [-0.06676182938418629, 0.05909521880239382],\n",
       " [0.13905466212623108, 0.047693638558404035],\n",
       " [-0.06676182938418629, 0.05909521880239382],\n",
       " [0.13905466212623108, 0.047693638558404035],\n",
       " [-0.06676182938418629, 0.05909521880239382],\n",
       " [0.13905466212623108, 0.047693638558404035],\n",
       " [-0.06676182938418629, 0.05909521880239382],\n",
       " [0.09348536600851487, 0.05021803289889339],\n",
       " [-0.01676120981745277, 0.0563253432105224],\n",
       " [0.09348536600851476, 0.05021803289889341],\n",
       " [0.09122176609567777, 0.0503434291480331],\n",
       " [0.09348536600851498, 0.050218032898893386],\n",
       " [0.057372162356984724, 0.052218589736097214],\n",
       " [0.09348536600851498, 0.050218032898893386],\n",
       " [0.009009749437021486, 0.05489771388039359],\n",
       " [0.09348536600851498, 0.050218032898893386],\n",
       " [0.011869842909366322, 0.054739273781687504],\n",
       " [0.09348536600851476, 0.05021803289889341],\n",
       " [0.2194329858951488, 0.0432409345908878],\n",
       " [0.09348536600851476, 0.05021803289889341],\n",
       " [-0.03899785080913509, 0.057557182528950514],\n",
       " [-0.2785176766660815, 0.0708258205010258],\n",
       " [-0.8522953399013349, 0.10261128152786762],\n",
       " [-0.25973384985933134, 0.06978525612712806],\n",
       " [-0.0726488434828878, 0.05942134069452825],\n",
       " [-0.17823114371479212, 0.06527026494547025],\n",
       " [-0.4089080503650053, 0.0780490332662519],\n",
       " [-0.2355377339726716, 0.06844486812007342],\n",
       " [-0.3914524343462591, 0.07708204755346738],\n",
       " [-0.2355377339726716, 0.06844486812007342],\n",
       " [-0.407549917111976, 0.07797379699556821],\n",
       " [-0.23553773397267186, 0.06844486812007343],\n",
       " [-0.6187717312606087, 0.08967481495396072],\n",
       " [-0.2355377339726716, 0.06844486812007342],\n",
       " [0.13236516895707895, 0.04806421524348881],\n",
       " [-1.8424068767908302, 0.15746031746031747],\n",
       " [-0.6618911174785101, 0.09206349206349208],\n",
       " [-1.4227952881248007, 0.1342151675485009],\n",
       " [-0.9573384272524671, 0.10843033509700177],\n",
       " [-1.3775039796243227, 0.1317061728395062],\n",
       " [-1.0151607768226678, 0.11163350970017638],\n",
       " [-1.2876151492115468, 0.12672661699600477],\n",
       " [-0.4143664113209753, 0.07835140913508262],\n",
       " [-1.1374411719479252, 0.11840745539838511],\n",
       " [-1.016953302492598, 0.11173280993173285],\n",
       " [-0.9995319298487594, 0.11076772119320909],\n",
       " [-1.1122391617544434, 0.11701134404004776],\n",
       " [-1.044851422562481, 0.11327827721814383],\n",
       " [-0.19073193599619853, 0.0659627691528053]]"
      ]
     },
     "execution_count": 45,
     "metadata": {},
     "output_type": "execute_result"
    }
   ],
   "source": [
    "score"
   ]
  },
  {
   "cell_type": "code",
   "execution_count": 46,
   "metadata": {},
   "outputs": [
    {
     "data": {
      "text/plain": [
       "14"
      ]
     },
     "execution_count": 46,
     "metadata": {},
     "output_type": "execute_result"
    }
   ],
   "source": [
    "max_ind=score.index(max(score))\n",
    "max_ind"
   ]
  },
  {
   "cell_type": "code",
   "execution_count": 47,
   "metadata": {},
   "outputs": [
    {
     "data": {
      "text/plain": [
       "[0.26370952731205655, 0.040788154756840056]"
      ]
     },
     "execution_count": 47,
     "metadata": {},
     "output_type": "execute_result"
    }
   ],
   "source": [
    "score[max_ind]"
   ]
  },
  {
   "cell_type": "code",
   "execution_count": 48,
   "metadata": {},
   "outputs": [
    {
     "name": "stdout",
     "output_type": "stream",
     "text": [
      "Wall time: 44.9 ms\n"
     ]
    },
    {
     "data": {
      "text/plain": [
       "DecisionTreeRegressor(criterion='mse', max_depth=3, max_features=None,\n",
       "           max_leaf_nodes=None, min_impurity_decrease=0.0,\n",
       "           min_impurity_split=None, min_samples_leaf=1,\n",
       "           min_samples_split=2, min_weight_fraction_leaf=0.0,\n",
       "           presort=False, random_state=0, splitter='best')"
      ]
     },
     "execution_count": 48,
     "metadata": {},
     "output_type": "execute_result"
    }
   ],
   "source": [
    "%%time\n",
    "decision=DecisionTreeRegressor(max_depth=decision_params[max_ind][0],min_samples_split=decision_params[max_ind][1],splitter=decision_params[max_ind][2],random_state=0)\n",
    "decision.fit(X_train,y_train)"
   ]
  },
  {
   "cell_type": "code",
   "execution_count": 49,
   "metadata": {},
   "outputs": [
    {
     "name": "stdout",
     "output_type": "stream",
     "text": [
      "r2\t 0.26370952731205655 \n",
      "mse\t 0.040788154756840056\n"
     ]
    }
   ],
   "source": [
    "pred=decision.predict(X_test)\n",
    "print(\"r2\\t\",decision.score(X_test,y_test),\"\\nmse\\t\",mean_squared_error(y_test,pred))"
   ]
  },
  {
   "cell_type": "code",
   "execution_count": 15,
   "metadata": {},
   "outputs": [
    {
     "data": {
      "text/plain": [
       "DecisionTreeRegressor(criterion='mse', max_depth=3, max_features=None,\n",
       "           max_leaf_nodes=None, min_impurity_decrease=0.0,\n",
       "           min_impurity_split=None, min_samples_leaf=1,\n",
       "           min_samples_split=2, min_weight_fraction_leaf=0.0,\n",
       "           presort=False, random_state=0, splitter='best')"
      ]
     },
     "execution_count": 15,
     "metadata": {},
     "output_type": "execute_result"
    }
   ],
   "source": [
    "model=DecisionTreeRegressor(max_depth=decision_params[14][0],min_samples_split=decision_params[14][1],splitter=decision_params[14][2],random_state=0)\n",
    "model.fit(X_train,y_train)"
   ]
  },
  {
   "cell_type": "code",
   "execution_count": 35,
   "metadata": {},
   "outputs": [
    {
     "data": {
      "text/plain": [
       "array([1.20828667, 1.20828667, 1.20828667, 1.20828667, 1.20828667,\n",
       "       1.20828667, 1.20828667, 1.20828667, 1.20828667, 1.20828667,\n",
       "       1.20828667, 1.20828667, 1.20828667, 1.20828667, 1.20828667,\n",
       "       1.20828667, 1.20828667, 1.20828667, 1.20828667, 1.20828667,\n",
       "       1.20828667, 1.20828667, 1.20828667, 1.20828667, 1.20828667,\n",
       "       1.20828667, 1.20828667, 1.20828667])"
      ]
     },
     "execution_count": 35,
     "metadata": {},
     "output_type": "execute_result"
    }
   ],
   "source": [
    "get_multiple_days(model,[sc_X,sc_y],X_train,y_train,X_test[:1],28)"
   ]
  },
  {
   "cell_type": "markdown",
   "metadata": {},
   "source": [
    "### Random Forest"
   ]
  },
  {
   "cell_type": "code",
   "execution_count": 50,
   "metadata": {},
   "outputs": [],
   "source": [
    "score=[] # [r2,mse]\n",
    "for row in random_params:\n",
    "    #print(row)\n",
    "    rf=RandomForestRegressor(n_estimators=row[0],max_depth=row[1],min_samples_split=row[2],random_state=0)\n",
    "    rf.fit(X_train,y_train)\n",
    "    pred=rf.predict(X_test)\n",
    "    score.append([rf.score(X_test,y_test),mean_squared_error(y_test,pred)])"
   ]
  },
  {
   "cell_type": "code",
   "execution_count": 51,
   "metadata": {},
   "outputs": [
    {
     "data": {
      "text/plain": [
       "63"
      ]
     },
     "execution_count": 51,
     "metadata": {},
     "output_type": "execute_result"
    }
   ],
   "source": [
    "max_ind=score.index(max(score))\n",
    "max_ind"
   ]
  },
  {
   "cell_type": "code",
   "execution_count": 52,
   "metadata": {},
   "outputs": [
    {
     "data": {
      "text/plain": [
       "[0.1810630405639615, 0.04536650775288532]"
      ]
     },
     "execution_count": 52,
     "metadata": {},
     "output_type": "execute_result"
    }
   ],
   "source": [
    "score[max_ind]"
   ]
  },
  {
   "cell_type": "code",
   "execution_count": 53,
   "metadata": {},
   "outputs": [
    {
     "name": "stdout",
     "output_type": "stream",
     "text": [
      "Wall time: 136 ms\n"
     ]
    },
    {
     "data": {
      "text/plain": [
       "RandomForestRegressor(bootstrap=True, criterion='mse', max_depth=7,\n",
       "           max_features='auto', max_leaf_nodes=None,\n",
       "           min_impurity_decrease=0.0, min_impurity_split=None,\n",
       "           min_samples_leaf=1, min_samples_split=8,\n",
       "           min_weight_fraction_leaf=0.0, n_estimators=6, n_jobs=1,\n",
       "           oob_score=False, random_state=0, verbose=0, warm_start=False)"
      ]
     },
     "execution_count": 53,
     "metadata": {},
     "output_type": "execute_result"
    }
   ],
   "source": [
    "%%time\n",
    "rf=RandomForestRegressor(n_estimators=random_params[max_ind][0],max_depth=random_params[max_ind][1],min_samples_split=random_params[max_ind][2],random_state=0)\n",
    "rf.fit(X_train,y_train)"
   ]
  },
  {
   "cell_type": "code",
   "execution_count": 54,
   "metadata": {},
   "outputs": [
    {
     "name": "stdout",
     "output_type": "stream",
     "text": [
      "r2\t 0.1810630405639615 \n",
      "mse\t 0.04536650775288532\n"
     ]
    }
   ],
   "source": [
    "pred=rf.predict(X_test)\n",
    "print(\"r2\\t\",rf.score(X_test,y_test),\"\\nmse\\t\",mean_squared_error(y_test,pred))"
   ]
  },
  {
   "cell_type": "markdown",
   "metadata": {},
   "source": [
    "## stat multiple day"
   ]
  },
  {
   "cell_type": "markdown",
   "metadata": {},
   "source": [
    "### stat multiple day - load data"
   ]
  },
  {
   "cell_type": "code",
   "execution_count": 96,
   "metadata": {},
   "outputs": [],
   "source": [
    "X=pd.read_csv(\"stat_7_HOBBIES_1_004_CA_1.csv\")\n",
    "with open(\"stat_sales_HOBBIES_1_004_CA_1.pickle\", 'rb') as fp:\n",
    "    y = pickle.load(fp)\n",
    "    fp.close()"
   ]
  },
  {
   "cell_type": "code",
   "execution_count": 99,
   "metadata": {},
   "outputs": [],
   "source": [
    "i=0\n",
    "for i in range(len(y)):\n",
    "    if len(y[i])!=28:\n",
    "        break\n"
   ]
  },
  {
   "cell_type": "code",
   "execution_count": 100,
   "metadata": {},
   "outputs": [],
   "source": [
    "X=X[:i]\n",
    "y=y[:i]"
   ]
  },
  {
   "cell_type": "code",
   "execution_count": 102,
   "metadata": {},
   "outputs": [],
   "source": [
    "sc_X = MinMaxScaler(feature_range=(-1, 1))\n",
    "X[:-28]=sc_X.fit_transform(X[:-28])\n",
    "X[-28:]=sc_X.transform(X[-28:])"
   ]
  },
  {
   "cell_type": "code",
   "execution_count": 103,
   "metadata": {},
   "outputs": [],
   "source": [
    "sc_y=MinMaxScaler(feature_range=(-1, 1))\n",
    "y[:-28]=sc_y.fit_transform(y[:-28])\n",
    "y[-28:]=sc_y.transform(y[-28:])"
   ]
  },
  {
   "cell_type": "code",
   "execution_count": 104,
   "metadata": {},
   "outputs": [],
   "source": [
    "X_train=X[:-28]\n",
    "y_train=y[:-28]\n",
    "X_test=X[-28:]\n",
    "y_test=y[-28:]"
   ]
  },
  {
   "cell_type": "markdown",
   "metadata": {},
   "source": [
    "### Decision Tree"
   ]
  },
  {
   "cell_type": "code",
   "execution_count": 105,
   "metadata": {},
   "outputs": [],
   "source": [
    "score=[] # [r2,mse]\n",
    "for row in decision_params:\n",
    "    #print(row)\n",
    "    decision=DecisionTreeRegressor(max_depth=row[0],min_samples_split=row[1],splitter=row[2],random_state=0)\n",
    "    decision.fit(X_train,y_train)\n",
    "    pred=decision.predict(X_test)\n",
    "    score.append([decision.score(X_test,y_test),mean_squared_error(y_test,pred)])"
   ]
  },
  {
   "cell_type": "code",
   "execution_count": 106,
   "metadata": {
    "scrolled": true
   },
   "outputs": [
    {
     "data": {
      "text/plain": [
       "[[-0.01782176392258054, 0.06508767407241554],\n",
       " [-0.009365173517382296, 0.06454689196343785],\n",
       " [-0.01782176392258054, 0.06508767407241554],\n",
       " [-0.009365173517382296, 0.06454689196343785],\n",
       " [-0.01782176392258054, 0.06508767407241554],\n",
       " [-0.009365173517382296, 0.06454689196343785],\n",
       " [-0.01782176392258054, 0.06508767407241554],\n",
       " [-0.009365173517382296, 0.06454689196343785],\n",
       " [-0.01782176392258054, 0.06508767407241554],\n",
       " [-0.009365173517382296, 0.06454689196343785],\n",
       " [-0.01782176392258054, 0.06508767407241554],\n",
       " [-0.009365173517382296, 0.06454689196343785],\n",
       " [-0.01782176392258054, 0.06508767407241554],\n",
       " [-0.009365173517382296, 0.06454689196343785],\n",
       " [-0.025130246924820573, 0.0655550370002629],\n",
       " [-0.03231177869523185, 0.06601428164975023],\n",
       " [-0.025130246924820573, 0.0655550370002629],\n",
       " [-0.03231177869523185, 0.06601428164975023],\n",
       " [-0.025130246924820573, 0.0655550370002629],\n",
       " [-0.03231177869523185, 0.06601428164975023],\n",
       " [-0.025130246924820573, 0.0655550370002629],\n",
       " [-0.03231177869523185, 0.06601428164975023],\n",
       " [-0.025130246924820573, 0.0655550370002629],\n",
       " [-0.03231177869523185, 0.06601428164975023],\n",
       " [-0.025130246924820573, 0.0655550370002629],\n",
       " [-0.03231177869523185, 0.06601428164975023],\n",
       " [-0.025130246924820573, 0.0655550370002629],\n",
       " [-0.03231177869523185, 0.06601428164975023],\n",
       " [-0.030272525728996195, 0.06588387548521114],\n",
       " [-0.03522998321003672, 0.06620089501475067],\n",
       " [-0.030272525728996247, 0.06588387548521116],\n",
       " [-0.03522998321003672, 0.06620089501475067],\n",
       " [-0.030272525728996292, 0.06588387548521116],\n",
       " [-0.017791991957511116, 0.06508577021456184],\n",
       " [-0.030272525728996292, 0.06588387548521116],\n",
       " [-0.017791991957511116, 0.06508577021456184],\n",
       " [-0.030272525728996292, 0.06588387548521116],\n",
       " [-0.017791991957511116, 0.06508577021456184],\n",
       " [-0.030272525728996292, 0.06588387548521116],\n",
       " [-0.017791991957511116, 0.06508577021456184],\n",
       " [-0.030272525728996292, 0.06588387548521116],\n",
       " [-0.017791991957511116, 0.06508577021456184],\n",
       " [-0.06621983553813034, 0.0681826343323594],\n",
       " [-0.03481330168300271, 0.0661742490612204],\n",
       " [-0.06621983553813018, 0.0681826343323594],\n",
       " [-0.03663366367819231, 0.06629065758424127],\n",
       " [-0.06621983553813027, 0.0681826343323594],\n",
       " [-0.0324948173742496, 0.06602598660861911],\n",
       " [-0.06621983553813024, 0.0681826343323594],\n",
       " [-0.0324948173742496, 0.06602598660861911],\n",
       " [-0.06621983553813028, 0.0681826343323594],\n",
       " [-0.03334380864325508, 0.06608027790888998],\n",
       " [-0.06621983553813028, 0.0681826343323594],\n",
       " [-0.03834101053043846, 0.06639983901402252],\n",
       " [-0.060182712841087005, 0.06779657236319304],\n",
       " [-0.028812819774558334, 0.0657905301974882],\n",
       " [-0.1253865767669325, 0.07196622956045295],\n",
       " [-0.09464467013159694, 0.07000034587593237],\n",
       " [-0.12538657676693243, 0.07196622956045294],\n",
       " [-0.07897929214002658, 0.06899857616233634],\n",
       " [-0.1253865767669325, 0.07196622956045294],\n",
       " [-0.0617907297950527, 0.06789940184386682],\n",
       " [-0.11582495166182488, 0.07135478268389431],\n",
       " [-0.0667941665387481, 0.06821936165565205],\n",
       " [-0.08136780989018151, 0.06915131711399287],\n",
       " [-0.04137003091513789, 0.06659353883313253],\n",
       " [-0.08136780989018147, 0.06915131711399287],\n",
       " [-0.06342288785941647, 0.06800377510045603],\n",
       " [-0.07533068719313825, 0.06876525514482651],\n",
       " [-0.05625739668428765, 0.0675455562150805],\n",
       " [-0.1621873207865626, 0.07431956382512904],\n",
       " [-0.16218732078656264, 0.07431956382512904],\n",
       " [-0.1621873207865626, 0.07431956382512904],\n",
       " [-0.16218732078656256, 0.07431956382512904],\n",
       " [-0.16218732078656256, 0.07431956382512904],\n",
       " [-0.16218732078656264, 0.07431956382512904],\n",
       " [-0.14563421142390948, 0.07326102545891333],\n",
       " [-0.1526256956814551, 0.0737081169485704],\n",
       " [-0.11117706965226604, 0.07105755988901188],\n",
       " [-0.12634350484624576, 0.07202742320470855],\n",
       " [-0.11117706965226602, 0.07105755988901188],\n",
       " [-0.10960085676318843, 0.07095676421492682],\n",
       " [-0.10513994695522275, 0.07067149791984552],\n",
       " [-0.12135472006792387, 0.07170840035691892]]"
      ]
     },
     "execution_count": 106,
     "metadata": {},
     "output_type": "execute_result"
    }
   ],
   "source": [
    "score"
   ]
  },
  {
   "cell_type": "code",
   "execution_count": 107,
   "metadata": {},
   "outputs": [
    {
     "data": {
      "text/plain": [
       "1"
      ]
     },
     "execution_count": 107,
     "metadata": {},
     "output_type": "execute_result"
    }
   ],
   "source": [
    "max_ind=score.index(max(score))\n",
    "max_ind"
   ]
  },
  {
   "cell_type": "code",
   "execution_count": 108,
   "metadata": {},
   "outputs": [
    {
     "data": {
      "text/plain": [
       "[-0.009365173517382296, 0.06454689196343785]"
      ]
     },
     "execution_count": 108,
     "metadata": {},
     "output_type": "execute_result"
    }
   ],
   "source": [
    "score[max_ind]"
   ]
  },
  {
   "cell_type": "code",
   "execution_count": 109,
   "metadata": {},
   "outputs": [
    {
     "name": "stdout",
     "output_type": "stream",
     "text": [
      "Wall time: 11 ms\n"
     ]
    },
    {
     "data": {
      "text/plain": [
       "DecisionTreeRegressor(criterion='mse', max_depth=1, max_features=None,\n",
       "           max_leaf_nodes=None, min_impurity_decrease=0.0,\n",
       "           min_impurity_split=None, min_samples_leaf=1,\n",
       "           min_samples_split=2, min_weight_fraction_leaf=0.0,\n",
       "           presort=False, random_state=0, splitter='random')"
      ]
     },
     "execution_count": 109,
     "metadata": {},
     "output_type": "execute_result"
    }
   ],
   "source": [
    "%%time\n",
    "decision=DecisionTreeRegressor(max_depth=decision_params[max_ind][0],min_samples_split=decision_params[max_ind][1],splitter=decision_params[max_ind][2],random_state=0)\n",
    "decision.fit(X_train,y_train)"
   ]
  },
  {
   "cell_type": "code",
   "execution_count": 110,
   "metadata": {},
   "outputs": [
    {
     "name": "stdout",
     "output_type": "stream",
     "text": [
      "r2\t -0.009365173517382296 \n",
      "mse\t 0.06454689196343785\n"
     ]
    }
   ],
   "source": [
    "pred=decision.predict(X_test)\n",
    "print(\"r2\\t\",decision.score(X_test,y_test),\"\\nmse\\t\",mean_squared_error(y_test,pred))"
   ]
  },
  {
   "cell_type": "markdown",
   "metadata": {},
   "source": [
    "### Random Forest"
   ]
  },
  {
   "cell_type": "code",
   "execution_count": 111,
   "metadata": {},
   "outputs": [],
   "source": [
    "score=[] # [r2,mse]\n",
    "for row in random_params:\n",
    "    #print(row)\n",
    "    rf=RandomForestRegressor(n_estimators=row[0],max_depth=row[1],min_samples_split=row[2],random_state=0)\n",
    "    rf.fit(X_train,y_train)\n",
    "    pred=rf.predict(X_test)\n",
    "    score.append([rf.score(X_test,y_test),mean_squared_error(y_test,pred)])"
   ]
  },
  {
   "cell_type": "code",
   "execution_count": 112,
   "metadata": {},
   "outputs": [
    {
     "data": {
      "text/plain": [
       "48"
      ]
     },
     "execution_count": 112,
     "metadata": {},
     "output_type": "execute_result"
    }
   ],
   "source": [
    "max_ind=score.index(max(score))\n",
    "max_ind"
   ]
  },
  {
   "cell_type": "code",
   "execution_count": 113,
   "metadata": {},
   "outputs": [
    {
     "data": {
      "text/plain": [
       "[-0.01741466750339024, 0.06506164106743619]"
      ]
     },
     "execution_count": 113,
     "metadata": {},
     "output_type": "execute_result"
    }
   ],
   "source": [
    "score[max_ind]"
   ]
  },
  {
   "cell_type": "code",
   "execution_count": 114,
   "metadata": {},
   "outputs": [
    {
     "name": "stdout",
     "output_type": "stream",
     "text": [
      "Wall time: 38.6 ms\n"
     ]
    },
    {
     "data": {
      "text/plain": [
       "RandomForestRegressor(bootstrap=True, criterion='mse', max_depth=1,\n",
       "           max_features='auto', max_leaf_nodes=None,\n",
       "           min_impurity_decrease=0.0, min_impurity_split=None,\n",
       "           min_samples_leaf=1, min_samples_split=2,\n",
       "           min_weight_fraction_leaf=0.0, n_estimators=6, n_jobs=1,\n",
       "           oob_score=False, random_state=0, verbose=0, warm_start=False)"
      ]
     },
     "execution_count": 114,
     "metadata": {},
     "output_type": "execute_result"
    }
   ],
   "source": [
    "%%time\n",
    "rf=RandomForestRegressor(n_estimators=random_params[max_ind][0],max_depth=random_params[max_ind][1],min_samples_split=random_params[max_ind][2],random_state=0)\n",
    "rf.fit(X_train,y_train)"
   ]
  },
  {
   "cell_type": "code",
   "execution_count": 115,
   "metadata": {},
   "outputs": [
    {
     "name": "stdout",
     "output_type": "stream",
     "text": [
      "r2\t -0.01741466750339024 \n",
      "mse\t 0.06506164106743619\n"
     ]
    }
   ],
   "source": [
    "pred=rf.predict(X_test)\n",
    "print(\"r2\\t\",rf.score(X_test,y_test),\"\\nmse\\t\",mean_squared_error(y_test,pred))"
   ]
  },
  {
   "cell_type": "markdown",
   "metadata": {},
   "source": [
    "## seq multiple day"
   ]
  },
  {
   "cell_type": "markdown",
   "metadata": {},
   "source": [
    "### seq multiple day - load data"
   ]
  },
  {
   "cell_type": "code",
   "execution_count": 120,
   "metadata": {},
   "outputs": [],
   "source": [
    "with open(\"seq_m_HOBBIES_1_004_CA_1_X.pickle\", 'rb') as fp:\n",
    "    X = pickle.load(fp)\n",
    "    fp.close()\n",
    "with open(\"seq_m_HOBBIES_1_004_CA_1_y.pickle\", 'rb') as fp:\n",
    "    y = pickle.load(fp)\n",
    "    fp.close()"
   ]
  },
  {
   "cell_type": "code",
   "execution_count": 121,
   "metadata": {},
   "outputs": [],
   "source": [
    "sha=(len(X),len(X[0]),len(X[0][0]))\n",
    "sc_X = MinMaxScaler(feature_range=(-1, 1))\n",
    "X=np.array(X).reshape(sha[0],sha[1]*sha[2])\n",
    "X[:-28]=sc_X.fit_transform(X[:-28])\n",
    "X[-28:]=sc_X.transform(X[-28:])"
   ]
  },
  {
   "cell_type": "code",
   "execution_count": 122,
   "metadata": {},
   "outputs": [],
   "source": [
    "sha=(len(y),len(y[0]),len(y[0][0]))\n",
    "sc_y = MinMaxScaler(feature_range=(-1, 1))\n",
    "y=np.array(y).reshape(sha[0],sha[1]*sha[2])\n",
    "y[:-28]=sc_y.fit_transform(y[:-28])\n",
    "y[-28:]=sc_y.transform(y[-28:])\n",
    "#y=list(y.reshape(sha[0],sha[1],sha[2]))"
   ]
  },
  {
   "cell_type": "code",
   "execution_count": 123,
   "metadata": {},
   "outputs": [],
   "source": [
    "for i in range(len(X)):\n",
    "    X[i]=X[i].astype(float)\n",
    "    y[i]=y[i].astype(float)"
   ]
  },
  {
   "cell_type": "code",
   "execution_count": 124,
   "metadata": {},
   "outputs": [],
   "source": [
    "X=X.astype(float)\n",
    "y=y.astype(float)"
   ]
  },
  {
   "cell_type": "code",
   "execution_count": 125,
   "metadata": {},
   "outputs": [],
   "source": [
    "X_train=X[:-28]\n",
    "y_train=y[:-28]\n",
    "X_test=X[-28:]\n",
    "y_test=y[-28:]"
   ]
  },
  {
   "cell_type": "markdown",
   "metadata": {},
   "source": [
    "### Decision Tree"
   ]
  },
  {
   "cell_type": "code",
   "execution_count": 126,
   "metadata": {},
   "outputs": [],
   "source": [
    "score=[] # [r2,mse]\n",
    "for row in decision_params:\n",
    "    #print(row)\n",
    "    decision=DecisionTreeRegressor(max_depth=row[0],min_samples_split=row[1],splitter=row[2],random_state=0)\n",
    "    decision.fit(X_train,y_train)\n",
    "    pred=decision.predict(X_test)\n",
    "    score.append([decision.score(X_test,y_test),mean_squared_error(y_test,pred)])"
   ]
  },
  {
   "cell_type": "code",
   "execution_count": 127,
   "metadata": {
    "scrolled": true
   },
   "outputs": [
    {
     "data": {
      "text/plain": [
       "[[-0.015013895372289488, 0.06511197413859282],\n",
       " [0.005784488322630273, 0.0637777817423681],\n",
       " [-0.015013895372289488, 0.06511197413859282],\n",
       " [0.005784488322630273, 0.0637777817423681],\n",
       " [-0.015013895372289488, 0.06511197413859282],\n",
       " [0.005784488322630273, 0.0637777817423681],\n",
       " [-0.015013895372289488, 0.06511197413859282],\n",
       " [0.005784488322630273, 0.0637777817423681],\n",
       " [-0.015013895372289488, 0.06511197413859282],\n",
       " [0.005784488322630273, 0.0637777817423681],\n",
       " [-0.015013895372289488, 0.06511197413859282],\n",
       " [0.005784488322630273, 0.0637777817423681],\n",
       " [-0.015013895372289488, 0.06511197413859282],\n",
       " [0.005784488322630273, 0.0637777817423681],\n",
       " [0.040683733067268545, 0.06153903532556574],\n",
       " [0.009235731294093304, 0.06355638847462226],\n",
       " [0.040683733067268545, 0.06153903532556574],\n",
       " [0.009235731294093304, 0.06355638847462226],\n",
       " [0.040683733067268545, 0.06153903532556574],\n",
       " [0.009235731294093304, 0.06355638847462226],\n",
       " [0.040683733067268545, 0.06153903532556574],\n",
       " [0.009235731294093304, 0.06355638847462226],\n",
       " [0.040683733067268545, 0.06153903532556574],\n",
       " [0.009235731294093304, 0.06355638847462226],\n",
       " [0.040683733067268545, 0.06153903532556574],\n",
       " [0.009235731294093304, 0.06355638847462226],\n",
       " [0.040683733067268545, 0.06153903532556574],\n",
       " [0.009235731294093304, 0.06355638847462226],\n",
       " [-0.04474309612556535, 0.06701906817881614],\n",
       " [0.033690581360152794, 0.061987637965566035],\n",
       " [-0.04474309612556535, 0.06701906817881614],\n",
       " [0.033690581360152794, 0.061987637965566035],\n",
       " [-0.04474309612556535, 0.06701906817881614],\n",
       " [0.033690581360152794, 0.061987637965566035],\n",
       " [-0.04474309612556535, 0.06701906817881614],\n",
       " [0.0253075707146335, 0.06252539845814965],\n",
       " [-0.04474309612556535, 0.06701906817881614],\n",
       " [0.0253075707146335, 0.06252539845814965],\n",
       " [-0.0447430961255655, 0.06701906817881613],\n",
       " [0.0253075707146335, 0.06252539845814965],\n",
       " [-0.0447430961255655, 0.06701906817881613],\n",
       " [0.0253075707146335, 0.06252539845814965],\n",
       " [-0.19274329655273523, 0.07651311083838575],\n",
       " [-0.10783778743753858, 0.07106652006860614],\n",
       " [-0.19274329655273525, 0.07651311083838575],\n",
       " [-0.13993298458823225, 0.07312539005686626],\n",
       " [-0.19274329655273523, 0.07651311083838575],\n",
       " [0.0038686039139743536, 0.06390068352394734],\n",
       " [-0.19274329655273525, 0.07651311083838575],\n",
       " [-0.11631138878156491, 0.07161009185032115],\n",
       " [-0.06229582082335409, 0.06814505528283019],\n",
       " [-0.11631138878156491, 0.07161009185032115],\n",
       " [-0.05358038828593169, 0.06758597030816078],\n",
       " [0.012015185004644744, 0.06337808971541715],\n",
       " [-0.05358038828593174, 0.06758597030816078],\n",
       " [0.05553826300344503, 0.06058613431262887],\n",
       " [-0.345916925054978, 0.0863390229596128],\n",
       " [-0.4908128543746145, 0.09563393019749562],\n",
       " [-0.2957218763874949, 0.08311906831108669],\n",
       " [-0.26847984291577837, 0.08137152319177333],\n",
       " [-0.2957218763874949, 0.0831190683110867],\n",
       " [-0.16651911367704003, 0.07483085966429545],\n",
       " [-0.2957218763874949, 0.0831190683110867],\n",
       " [-0.02436494818102381, 0.06571183342271388],\n",
       " [-0.16527440065811394, 0.07475101275553116],\n",
       " [-0.19071154894577805, 0.07638277656587626],\n",
       " [-0.13650190951239866, 0.07290529053643231],\n",
       " [-0.11327204544925729, 0.0714151214707492],\n",
       " [-0.09325849580227617, 0.0701312752761533],\n",
       " [-0.1453915212766475, 0.07347554890819931],\n",
       " [-1.0288343790635144, 0.13014739229024946],\n",
       " [-1.210703058918585, 0.14181405895691615],\n",
       " [-0.6129185200147568, 0.103466868228773],\n",
       " [-0.7808244926700698, 0.11423784328546234],\n",
       " [-0.4943587380540583, 0.09586139455782315],\n",
       " [-0.7458787429916441, 0.11199611363063744],\n",
       " [-0.48635314599763996, 0.09534784503370508],\n",
       " [-0.33866957110534407, 0.08587411353808341],\n",
       " [-0.3280177125315533, 0.08519080906003958],\n",
       " [-0.34372784239990195, 0.08619859582469924],\n",
       " [-0.30479471826539783, 0.08370108068393298],\n",
       " [-0.422783351952097, 0.09126991584991705],\n",
       " [-0.22140782818267457, 0.07835190757869925],\n",
       " [-0.15480084669267433, 0.0740791463130656]]"
      ]
     },
     "execution_count": 127,
     "metadata": {},
     "output_type": "execute_result"
    }
   ],
   "source": [
    "score"
   ]
  },
  {
   "cell_type": "code",
   "execution_count": 128,
   "metadata": {},
   "outputs": [
    {
     "data": {
      "text/plain": [
       "55"
      ]
     },
     "execution_count": 128,
     "metadata": {},
     "output_type": "execute_result"
    }
   ],
   "source": [
    "max_ind=score.index(max(score))\n",
    "max_ind"
   ]
  },
  {
   "cell_type": "code",
   "execution_count": 129,
   "metadata": {},
   "outputs": [
    {
     "data": {
      "text/plain": [
       "[0.05553826300344503, 0.06058613431262887]"
      ]
     },
     "execution_count": 129,
     "metadata": {},
     "output_type": "execute_result"
    }
   ],
   "source": [
    "score[max_ind]"
   ]
  },
  {
   "cell_type": "code",
   "execution_count": 130,
   "metadata": {},
   "outputs": [
    {
     "name": "stdout",
     "output_type": "stream",
     "text": [
      "Wall time: 18.2 ms\n"
     ]
    },
    {
     "data": {
      "text/plain": [
       "DecisionTreeRegressor(criterion='mse', max_depth=7, max_features=None,\n",
       "           max_leaf_nodes=None, min_impurity_decrease=0.0,\n",
       "           min_impurity_split=None, min_samples_leaf=1,\n",
       "           min_samples_split=14, min_weight_fraction_leaf=0.0,\n",
       "           presort=False, random_state=0, splitter='random')"
      ]
     },
     "execution_count": 130,
     "metadata": {},
     "output_type": "execute_result"
    }
   ],
   "source": [
    "%%time\n",
    "decision=DecisionTreeRegressor(max_depth=decision_params[max_ind][0],min_samples_split=decision_params[max_ind][1],splitter=decision_params[max_ind][2],random_state=0)\n",
    "decision.fit(X_train,y_train)"
   ]
  },
  {
   "cell_type": "code",
   "execution_count": 131,
   "metadata": {},
   "outputs": [
    {
     "name": "stdout",
     "output_type": "stream",
     "text": [
      "r2\t 0.05553826300344503 \n",
      "mse\t 0.06058613431262887\n"
     ]
    }
   ],
   "source": [
    "pred=decision.predict(X_test)\n",
    "print(\"r2\\t\",decision.score(X_test,y_test),\"\\nmse\\t\",mean_squared_error(y_test,pred))"
   ]
  },
  {
   "cell_type": "markdown",
   "metadata": {},
   "source": [
    "### Random Forest"
   ]
  },
  {
   "cell_type": "code",
   "execution_count": 132,
   "metadata": {},
   "outputs": [],
   "source": [
    "score=[] # [r2,mse]\n",
    "for row in random_params:\n",
    "    #print(row)\n",
    "    rf=RandomForestRegressor(n_estimators=row[0],max_depth=row[1],min_samples_split=row[2],random_state=0)\n",
    "    rf.fit(X_train,y_train)\n",
    "    pred=rf.predict(X_test)\n",
    "    score.append([rf.score(X_test,y_test),mean_squared_error(y_test,pred)])"
   ]
  },
  {
   "cell_type": "code",
   "execution_count": 133,
   "metadata": {},
   "outputs": [
    {
     "data": {
      "text/plain": [
       "59"
      ]
     },
     "execution_count": 133,
     "metadata": {},
     "output_type": "execute_result"
    }
   ],
   "source": [
    "max_ind=score.index(max(score))\n",
    "max_ind"
   ]
  },
  {
   "cell_type": "code",
   "execution_count": 134,
   "metadata": {},
   "outputs": [
    {
     "data": {
      "text/plain": [
       "[0.08446534839589313, 0.05873049505038298]"
      ]
     },
     "execution_count": 134,
     "metadata": {},
     "output_type": "execute_result"
    }
   ],
   "source": [
    "score[max_ind]"
   ]
  },
  {
   "cell_type": "code",
   "execution_count": 135,
   "metadata": {},
   "outputs": [
    {
     "name": "stdout",
     "output_type": "stream",
     "text": [
      "Wall time: 36.4 ms\n"
     ]
    },
    {
     "data": {
      "text/plain": [
       "RandomForestRegressor(bootstrap=True, criterion='mse', max_depth=5,\n",
       "           max_features='auto', max_leaf_nodes=None,\n",
       "           min_impurity_decrease=0.0, min_impurity_split=None,\n",
       "           min_samples_leaf=1, min_samples_split=8,\n",
       "           min_weight_fraction_leaf=0.0, n_estimators=6, n_jobs=1,\n",
       "           oob_score=False, random_state=0, verbose=0, warm_start=False)"
      ]
     },
     "execution_count": 135,
     "metadata": {},
     "output_type": "execute_result"
    }
   ],
   "source": [
    "%%time\n",
    "rf=RandomForestRegressor(n_estimators=random_params[max_ind][0],max_depth=random_params[max_ind][1],min_samples_split=random_params[max_ind][2],random_state=0)\n",
    "rf.fit(X_train,y_train)"
   ]
  },
  {
   "cell_type": "code",
   "execution_count": 137,
   "metadata": {},
   "outputs": [
    {
     "name": "stdout",
     "output_type": "stream",
     "text": [
      "r2\t 0.08446534839589313 \n",
      "mse\t 0.05873049505038298\n"
     ]
    }
   ],
   "source": [
    "pred=rf.predict(X_test)\n",
    "print(\"r2\\t\",rf.score(X_test,y_test),\"\\nmse\\t\",mean_squared_error(y_test,pred))"
   ]
  },
  {
   "cell_type": "code",
   "execution_count": null,
   "metadata": {},
   "outputs": [],
   "source": []
  }
 ],
 "metadata": {
  "kernelspec": {
   "display_name": "Python 3",
   "language": "python",
   "name": "python3"
  },
  "language_info": {
   "codemirror_mode": {
    "name": "ipython",
    "version": 3
   },
   "file_extension": ".py",
   "mimetype": "text/x-python",
   "name": "python",
   "nbconvert_exporter": "python",
   "pygments_lexer": "ipython3",
   "version": "3.7.5"
  }
 },
 "nbformat": 4,
 "nbformat_minor": 2
}
